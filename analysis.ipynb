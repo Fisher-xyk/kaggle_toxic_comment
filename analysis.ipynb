{
 "cells": [
  {
   "cell_type": "code",
   "execution_count": 1,
   "metadata": {},
   "outputs": [
    {
     "name": "stdout",
     "output_type": "stream",
     "text": [
      "Populating the interactive namespace from numpy and matplotlib\n"
     ]
    },
    {
     "name": "stderr",
     "output_type": "stream",
     "text": [
      "Using TensorFlow backend.\n"
     ]
    }
   ],
   "source": [
    "%pylab inline\n",
    "import pandas as pd\n",
    "import numpy as np\n",
    "import pickle\n",
    "\n",
    "import tensorflow as tf\n",
    "\n",
    "from sklearn.metrics import roc_curve, auc\n",
    "\n",
    "from keras.models import Model\n",
    "from keras import losses\n",
    "from keras import backend as K\n",
    "from keras.layers import Dense, Embedding, Input\n",
    "from keras.preprocessing import text, sequence\n",
    "from keras.layers import LSTM, Bidirectional, GlobalMaxPool1D, Dropout\n",
    "from keras.callbacks import EarlyStopping, ModelCheckpoint\n",
    "from keras.wrappers.scikit_learn import KerasClassifier"
   ]
  },
  {
   "cell_type": "code",
   "execution_count": null,
   "metadata": {},
   "outputs": [],
   "source": [
    "with open('trainHistoryDict_Orig', 'rb') as f:\n",
    "     history = pickle.load(f)"
   ]
  },
  {
   "cell_type": "code",
   "execution_count": null,
   "metadata": {},
   "outputs": [],
   "source": [
    "print(history['val_loss'])"
   ]
  },
  {
   "cell_type": "code",
   "execution_count": 2,
   "metadata": {},
   "outputs": [],
   "source": [
    "def preprocess_1(ftrain, ftest, max_features=20000, maxlen=100):\n",
    "    train = pd.read_csv(ftrain)\n",
    "    test  = pd.read_csv(ftest)\n",
    "\n",
    "    list_sentences_train = train[\"comment_text\"].fillna(\" \").values\n",
    "    list_sentences_test = test[\"comment_text\"].fillna(\" \").values\n",
    "    list_classes = [\"toxic\", \"severe_toxic\", \"obscene\", \"threat\", \"insult\", \"identity_hate\"]\n",
    "\n",
    "    train_sentence_filtered = train[   (train.toxic == 1)   | (train.severe_toxic == 1) \\\n",
    "                                 | (train.obscene == 1) | (train.threat == 1)   \\\n",
    "                                 | (train.insult ==  1) | (train.identity_hate == 1) ]\n",
    "    list_filtered_train = train_sentence_filtered[\"comment_text\"].fillna(\" \").values\n",
    "\n",
    "    tokenizer = text.Tokenizer(num_words=max_features)\n",
    "    tokenizer.fit_on_texts(list(list_filtered_train))\n",
    "    list_tokenized_train = tokenizer.texts_to_sequences(list_sentences_train)\n",
    "    list_tokenized_test = tokenizer.texts_to_sequences(list_sentences_test)\n",
    "\n",
    "    X_train = sequence.pad_sequences(list_tokenized_train, maxlen=maxlen)\n",
    "    X_test = sequence.pad_sequences(list_tokenized_test, maxlen=maxlen)\n",
    "    y = train[list_classes].values\n",
    "    return X_train, X_test, y\n",
    "\n",
    "def preprocess_2(ftrain, ftest, max_features=20000, maxlen=100):\n",
    "    train_orig = pd.read_csv(ftrain)\n",
    "    test_orig  = pd.read_csv(ftest)\n",
    "\n",
    "    train_effective_samples = train_orig[   (train_orig.toxic == 1)   | (train_orig.severe_toxic == 1) \\\n",
    "                                        | (train_orig.obscene == 1) | (train_orig.threat == 1)   \\\n",
    "                                      | (train_orig.insult ==  1) | (train_orig.identity_hate == 1) ]\n",
    "    # repeat the threat data at the beginning\n",
    "    threat_samples = train_orig[train_orig.threat == 1]\n",
    "    word_fit       = threat_samples.append(train_effective_samples)\n",
    "    train_combined = threat_samples.append(train_orig)\n",
    "    \n",
    "    list_sentences_fit = word_fit[\"comment_text\"].fillna(\" \").values\n",
    "    list_sentences_train = train_combined[\"comment_text\"].fillna(\" \").values\n",
    "    list_sentences_test = test_orig[\"comment_text\"].fillna(\" \").values\n",
    "    list_classes = [\"toxic\", \"severe_toxic\", \"obscene\", \"threat\", \"insult\", \"identity_hate\"]\n",
    "    \n",
    "    tokenizer = text.Tokenizer(num_words=max_features)\n",
    "    tokenizer.fit_on_texts(list(list_sentences_fit))\n",
    "    list_tokenized_train = tokenizer.texts_to_sequences(list_sentences_train)\n",
    "    list_tokenized_test = tokenizer.texts_to_sequences(list_sentences_test)\n",
    "\n",
    "    X_train = sequence.pad_sequences(list_tokenized_train, maxlen=maxlen)\n",
    "    X_test = sequence.pad_sequences(list_tokenized_test, maxlen=maxlen)\n",
    "    y = train_combined[list_classes].values\n",
    "    return X_train, X_test, y    \n",
    "    "
   ]
  },
  {
   "cell_type": "code",
   "execution_count": 3,
   "metadata": {},
   "outputs": [],
   "source": [
    "train_file = \"./input/train.csv\"\n",
    "test_file  = \"./input/test.csv\"\n",
    "max_features = 20000\n",
    "maxlen = 100\n",
    "\n",
    "X_train, X_test, y = preprocess_2(train_file, test_file, max_features, maxlen)"
   ]
  },
  {
   "cell_type": "code",
   "execution_count": null,
   "metadata": {},
   "outputs": [],
   "source": [
    "print(X_train.shape, y.shape, X_test.shape)"
   ]
  },
  {
   "cell_type": "code",
   "execution_count": null,
   "metadata": {},
   "outputs": [],
   "source": [
    "print('# of toxic text: ', train[train.toxic == 1].fillna(\" \").values.shape)\n",
    "print('# of severe_toxic text: ',train[train.severe_toxic == 1].fillna(\" \").values.shape)\n",
    "print('# of obscene text: ',train[train.obscene == 1].fillna(\" \").values.shape)\n",
    "print('# of threat text: ',train[train.threat == 1].fillna(\" \").values.shape)\n",
    "print('# of insult text: ',train[train.insult ==  1].fillna(\" \").values.shape)\n",
    "print('# of identity_hate text: ',train[train.identity_hate == 1].fillna(\" \").values.shape)"
   ]
  },
  {
   "cell_type": "code",
   "execution_count": 4,
   "metadata": {},
   "outputs": [],
   "source": [
    "maxlen = 100\n",
    "max_features = 20000\n",
    "\n",
    "# define the Keras model graph\n",
    "def get_model():\n",
    "    embed_size = 600\n",
    "    inp = Input(shape=(maxlen,))\n",
    "    x = Embedding(max_features, embed_size)(inp)\n",
    "    x = Bidirectional(LSTM(50, return_sequences=True))(x)\n",
    "    x = GlobalMaxPool1D()(x)\n",
    "    x = Dropout(0.3)(x)\n",
    "    x = Dense(6, activation=\"sigmoid\")(x)\n",
    "    model = Model(inputs=inp, outputs=x)\n",
    "    model.compile(loss='binary_crossentropy',\n",
    "                  optimizer='adam',\n",
    "                  metrics=['accuracy'])\n",
    "    return model"
   ]
  },
  {
   "cell_type": "code",
   "execution_count": 5,
   "metadata": {},
   "outputs": [],
   "source": [
    "model = get_model()\n",
    "file_path=\"weights_submission_021618.best.hdf5\"\n",
    "model.load_weights(file_path)\n",
    "y_pred_sample = model.predict(X_train[-15000:-1])\n",
    "y_pred = K.variable(y_pred_sample)\n",
    "y_true = K.variable(y[-15000:-1])"
   ]
  },
  {
   "cell_type": "code",
   "execution_count": null,
   "metadata": {},
   "outputs": [],
   "source": [
    "score = K.eval(losses.binary_crossentropy(y_true, y_pred))\n",
    "values, indices = tf.nn.top_k(score, k=30, sorted=True)"
   ]
  },
  {
   "cell_type": "code",
   "execution_count": null,
   "metadata": {},
   "outputs": [],
   "source": [
    "print(K.eval(values))\n",
    "print(K.eval(indices))\n",
    "\n",
    "for idx in K.eval(indices):\n",
    "    print(K.eval(y_true[idx]), K.eval(y_pred[idx]))"
   ]
  },
  {
   "cell_type": "code",
   "execution_count": 6,
   "metadata": {},
   "outputs": [
    {
     "name": "stdout",
     "output_type": "stream",
     "text": [
      "Average AUC: 0.98579\n"
     ]
    }
   ],
   "source": [
    "# ROC(AUC) analysis\n",
    "\n",
    "y_score_arr = K.eval(y_pred)\n",
    "y_true_arr = K.eval(y_true)\n",
    "\n",
    "fpr = dict()\n",
    "tpr = dict()\n",
    "roc_auc = dict()\n",
    "for i in range(6):\n",
    "    fpr[i], tpr[i], _ = roc_curve(y_true_arr[:,i], y_score_arr[:,i])\n",
    "    roc_auc[i] = auc(fpr[i], tpr[i])\n",
    "\n",
    "avg_auc = sum(list(roc_auc.values())) / 6.0\n",
    "# Compute micro-average ROC curve and ROC area\n",
    "print(\"Average AUC: %.5f\" % avg_auc)"
   ]
  },
  {
   "cell_type": "code",
   "execution_count": 7,
   "metadata": {},
   "outputs": [
    {
     "data": {
      "image/png": "[encoded data removed]",
      "text/plain": [
       "<matplotlib.figure.Figure at 0x26c9cb47a90>"
      ]
     },
     "metadata": {},
     "output_type": "display_data"
    }
   ],
   "source": [
    "fig = plt.figure()\n",
    "lw = 2\n",
    "plt.plot(fpr[0], tpr[0], color='darkred',\n",
    "         lw=lw, label='toxic (area = %0.5f)' % roc_auc[0])\n",
    "plt.plot(fpr[1], tpr[1], color='darkorange',\n",
    "         lw=lw, label='severe_toxic (area = %0.5f)' % roc_auc[1])\n",
    "plt.plot(fpr[2], tpr[2], color='yellow',\n",
    "         lw=lw, label='obscene (area = %0.5f)' % roc_auc[2])\n",
    "plt.plot(fpr[3], tpr[3], color='green',\n",
    "         lw=lw, label='threat (area = %0.5f)' % roc_auc[3])\n",
    "plt.plot(fpr[4], tpr[4], color='m',\n",
    "         lw=lw, label='insult (area = %0.5f)' % roc_auc[4])\n",
    "plt.plot(fpr[5], tpr[5], color='b',\n",
    "         lw=lw, label='identity_hate (area = %0.5f)' % roc_auc[5])\n",
    "plt.plot([0, 1], [0, 1], color='navy', lw=lw, linestyle='--')\n",
    "plt.xlim([0.0, 1.0])\n",
    "plt.ylim([0.0, 1.05])\n",
    "plt.xlabel('False Positive Rate')\n",
    "plt.ylabel('True Positive Rate')\n",
    "plt.title('Receiver operating characteristic example')\n",
    "plt.legend(loc=\"lower right\")\n",
    "plt.show()"
   ]
  },
  {
   "cell_type": "code",
   "execution_count": 8,
   "metadata": {},
   "outputs": [],
   "source": [
    "fig.savefig('cmp.png', dpi=300)"
   ]
  },
  {
   "cell_type": "code",
   "execution_count": null,
   "metadata": {},
   "outputs": [],
   "source": []
  }
 ],
 "metadata": {
  "kernelspec": {
   "display_name": "Python 3",
   "language": "python",
   "name": "python3"
  },
  "language_info": {
   "codemirror_mode": {
    "name": "ipython",
    "version": 3
   },
   "file_extension": ".py",
   "mimetype": "text/x-python",
   "name": "python",
   "nbconvert_exporter": "python",
   "pygments_lexer": "ipython3",
   "version": "3.5.4"
  }
 },
 "nbformat": 4,
 "nbformat_minor": 2
}
